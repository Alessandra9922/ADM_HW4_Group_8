{
 "cells": [
  {
   "cell_type": "markdown",
   "metadata": {},
   "source": [
    "# [5] Algorithmic Question"
   ]
  },
  {
   "cell_type": "code",
   "execution_count": 1,
   "metadata": {},
   "outputs": [],
   "source": [
    "import numpy as np"
   ]
  },
  {
   "cell_type": "markdown",
   "metadata": {},
   "source": [
    "## a)"
   ]
  },
  {
   "cell_type": "code",
   "execution_count": 2,
   "metadata": {},
   "outputs": [],
   "source": [
    "def highest_score_possible(marks, S, n, results_list):\n",
    "    if n == 0:\n",
    "        results_list.append(S)\n",
    "    max_score = S\n",
    "    for i in range(n):\n",
    "        new_marks = marks[:]\n",
    "        current_S = marks[i]\n",
    "\n",
    "        if S > current_S:\n",
    "            difference = S - current_S\n",
    "            new_marks.pop(i)\n",
    "            new_marks = [element + difference for element in new_marks]\n",
    "        else:\n",
    "            difference = current_S - S\n",
    "            new_marks.pop(i)\n",
    "            new_marks = [element - difference for element in new_marks]\n",
    "        max_score = highest_score_possible(new_marks, current_S, n - 1, results_list)\n",
    "    return max(results_list)"
   ]
  },
  {
   "cell_type": "code",
   "execution_count": 3,
   "metadata": {},
   "outputs": [
    {
     "name": "stdout",
     "output_type": "stream",
     "text": [
      "The highest score possible is:  11\n"
     ]
    }
   ],
   "source": [
    "#input 1\n",
    "marks_list = [5, 7, 1 ]\n",
    "results_list = []\n",
    "initial_score = 8\n",
    "result = highest_score_possible(marks_list, initial_score, len(marks_list), results_list)\n",
    "print(\"The highest score possible is: \", result)"
   ]
  },
  {
   "cell_type": "code",
   "execution_count": 4,
   "metadata": {},
   "outputs": [
    {
     "name": "stdout",
     "output_type": "stream",
     "text": [
      "The highest score possible is:  44\n"
     ]
    }
   ],
   "source": [
    "#input 2\n",
    "marks_list = [18, 24, 21, 32, 27 ]\n",
    "results_list = []\n",
    "initial_score = 25\n",
    "result = highest_score_possible(marks_list, initial_score, len(marks_list), results_list)\n",
    "print(\"The highest score possible is: \", result)"
   ]
  },
  {
   "cell_type": "code",
   "execution_count": null,
   "metadata": {},
   "outputs": [],
   "source": [
    "#input 3\n",
    "marks_list = [13, 27, 41, 59, 28, 33, 39, 19, 52, 48, 55, 79 ]\n",
    "results_list = []\n",
    "initial_score = 30\n",
    "result = highest_score_possible(marks_list, initial_score, len(marks_list), results_list)\n",
    "print(\"The highest score possible is: \", result)"
   ]
  },
  {
   "cell_type": "markdown",
   "metadata": {},
   "source": [
    "The current algorithm is impractical for a substantial list like the last one provided. In fact, for a list of length 12 (or more), it would take an excessively long time to get an answer. So we need to optimize the code."
   ]
  },
  {
   "cell_type": "markdown",
   "metadata": {},
   "source": [
    "## b) Federico is getting angry because he claims that your code is slow! Show him formally with a big-O notation that he is as crazy as this university!"
   ]
  },
  {
   "cell_type": "markdown",
   "metadata": {},
   "source": [
    "This algorithm's complexity stems from its recursive nature and the exploration of all possible permutations of the marks list. In each recursive call, it checks every possible exam choice, generating a significant number of recursive calls. The number of recursive calls is roughly factorial in nature due to exploring all permutations, which scales rapidly with the length of the marks list. So Federico is right !"
   ]
  },
  {
   "cell_type": "markdown",
   "metadata": {},
   "source": [
    "## c) If, unfortunately, Federico is right in the grip of madness, he will threaten you to optimize the code through a different approach. You should end this theater of the absurd by any means! (And again, formally prove that you improved time complexity)"
   ]
  },
  {
   "cell_type": "markdown",
   "metadata": {},
   "source": [
    "1. **Observation:** After conducting various tests and examining the outcomes, I've observed a consistent trend that seems to hold true for every set of marks in an array.\n",
    "\n",
    "2. **Algorithm Pattern:**\n",
    "   - It starts by sorting the list of marks.\n",
    "   - Then, it divides the sorted list in half, obtaining the higher and lower scores.\n",
    "   - It calculates the difference between the sum of higher scores and the sum of lower scores.\n",
    "   - Additionally, if the length of the list is even, it incorporates the initial score."
   ]
  },
  {
   "cell_type": "code",
   "execution_count": 5,
   "metadata": {},
   "outputs": [],
   "source": [
    "def highest_score_possible_optimized(marks, S):\n",
    "    sorted_marks=np.sort(marks)\n",
    "    bad_grades = sorted_marks[:len(sorted_marks)// 2]\n",
    "    good_grades = sorted_marks[len(sorted_marks)// 2:]\n",
    "    final_score = sum(good_grades) - sum(bad_grades) \n",
    "    if len(sorted_marks) % 2 == 0:\n",
    "        final_score+= S \n",
    "    return final_score"
   ]
  },
  {
   "cell_type": "code",
   "execution_count": 6,
   "metadata": {},
   "outputs": [
    {
     "name": "stdout",
     "output_type": "stream",
     "text": [
      "The highest score possible is:  11\n"
     ]
    }
   ],
   "source": [
    "#input 1\n",
    "marks_list = [5, 7, 1 ]\n",
    "initial_score = 8\n",
    "result = highest_score_possible_optimized(marks_list, initial_score)\n",
    "print(\"The highest score possible is: \", result)"
   ]
  },
  {
   "cell_type": "code",
   "execution_count": 7,
   "metadata": {},
   "outputs": [
    {
     "name": "stdout",
     "output_type": "stream",
     "text": [
      "The highest score possible is:  44\n"
     ]
    }
   ],
   "source": [
    "#input 2\n",
    "marks_list = [18, 24, 21, 32, 27 ]\n",
    "initial_score = 25\n",
    "result = highest_score_possible_optimized(marks_list, initial_score)\n",
    "print(\"The highest score possible is: \", result)"
   ]
  },
  {
   "cell_type": "code",
   "execution_count": 8,
   "metadata": {},
   "outputs": [
    {
     "name": "stdout",
     "output_type": "stream",
     "text": [
      "The highest score possible is:  205\n"
     ]
    }
   ],
   "source": [
    "#input 3\n",
    "marks_list = [13, 27, 41, 59, 28, 33, 39, 19, 52, 48, 55, 79 ]\n",
    "initial_score = 30\n",
    "result = highest_score_possible_optimized(marks_list, initial_score)\n",
    "print(\"The highest score possible is: \", result)"
   ]
  },
  {
   "cell_type": "markdown",
   "metadata": {},
   "source": [
    "### Time complexity:\n",
    "\n",
    "1. **Sorting the List:**\n",
    "   - The most computationally expensive step is the sorting operation using `np.sort(marks)`. Its time complexity is O(n log n) for sorting 'n' elements.\n",
    "\n",
    "2. **Slicing the Sorted List:**\n",
    "   - After sorting, the algorithm slices the sorted list into two halves: `bad_grades` and `good_grades`. Each slicing operation takes O(n/2) time complexity as it divides the sorted list into two equal halves.\n",
    "\n",
    "3. **Calculating Final Score:**\n",
    "   - The algorithm calculates the final score by summing the `good_grades` and subtracting the `bad_grades`, which requires traversing both halves once. This operation has a time complexity of O(n/2) as it sums 'n/2' elements.\n",
    "\n",
    "4. **Additional Calculation (if applicable):**\n",
    "   - If the length of the sorted list is even (`len(sorted_marks) % 2 == 0`), it includes the initial score 'S'. This check involves a constant-time operation.\n",
    "\n",
    "5. **Overall Time Complexity:**\n",
    "   - The overall time complexity of this algorithm is dominated by the sorting operation so it's O(n log n).\n"
   ]
  },
  {
   "cell_type": "markdown",
   "metadata": {},
   "source": [
    "## d) Ask chatGPT for a third (optimized) implementation and analyze again its time complexity. Be careful (and crafty) in defining the prompt, and challenge the machine in this coding question!"
   ]
  },
  {
   "cell_type": "markdown",
   "metadata": {},
   "source": [
    "ChatGPT didn't understand, so I asked for further optimization of the function I provided (highest_score_possible_optimized). It then provided me with the following solution:"
   ]
  },
  {
   "cell_type": "code",
   "execution_count": 9,
   "metadata": {},
   "outputs": [],
   "source": [
    "def highest_score_possible_chatgpt(marks, S):\n",
    "    median = np.median(marks)\n",
    "    good_grades = np.extract(marks >= median, marks)\n",
    "    bad_grades = np.extract(marks < median, marks)\n",
    "    \n",
    "    final_score = np.sum(good_grades) - np.sum(bad_grades)\n",
    "    \n",
    "    if len(marks) % 2 == 0:\n",
    "        final_score += S\n",
    "    \n",
    "    return final_score"
   ]
  },
  {
   "cell_type": "code",
   "execution_count": 10,
   "metadata": {},
   "outputs": [
    {
     "name": "stdout",
     "output_type": "stream",
     "text": [
      "The highest score possible is:  11\n"
     ]
    }
   ],
   "source": [
    "#input 1\n",
    "marks_list = [5, 7, 1 ]\n",
    "initial_score = 8\n",
    "result = highest_score_possible_chatgpt(marks_list, initial_score)\n",
    "print(\"The highest score possible is: \", result)"
   ]
  },
  {
   "cell_type": "code",
   "execution_count": 11,
   "metadata": {},
   "outputs": [
    {
     "name": "stdout",
     "output_type": "stream",
     "text": [
      "The highest score possible is:  44\n"
     ]
    }
   ],
   "source": [
    "#input 2\n",
    "marks_list = [18, 24, 21, 32, 27 ]\n",
    "initial_score = 25\n",
    "result = highest_score_possible_chatgpt(marks_list, initial_score)\n",
    "print(\"The highest score possible is: \", result)"
   ]
  },
  {
   "cell_type": "code",
   "execution_count": 12,
   "metadata": {},
   "outputs": [
    {
     "name": "stdout",
     "output_type": "stream",
     "text": [
      "The highest score possible is:  205\n"
     ]
    }
   ],
   "source": [
    "#input 3\n",
    "marks_list = [13, 27, 41, 59, 28, 33, 39, 19, 52, 48, 55, 79 ]\n",
    "initial_score = 30\n",
    "result = highest_score_possible_chatgpt(marks_list, initial_score)\n",
    "print(\"The highest score possible is: \", result)"
   ]
  },
  {
   "cell_type": "markdown",
   "metadata": {},
   "source": [
    "### Time complexity:\n",
    "\n",
    "1. **Calculating the Median:**\n",
    "   - O(n), where n is the length of the `marks` array, for the calculation of the median using `np.median`.\n",
    "\n",
    "2. **Extracting Elements Based on the Median:**\n",
    "   - O(n) time complexity for `np.extract`, as it iterates through the array once to filter elements based on a condition.\n",
    "\n",
    "3. **Summation of Grades:**\n",
    "   - Linear time, O(n), to compute the sum of elements in `good_grades` and `bad_grades`.\n",
    "   \n",
    "4. **Conditional Check and Addition:**\n",
    "   - Constant-time operations, O(1), for the conditional check (`if len(marks) % 2 == 0`) and the addition of `S` if the condition is met.\n",
    "\n",
    "Considering each step operates in O(n) time and there are no nested loops or operations that increase exponentially with n, the overall time complexity of the function is O(n).\n"
   ]
  }
 ],
 "metadata": {
  "kernelspec": {
   "display_name": "Python 3",
   "language": "python",
   "name": "python3"
  },
  "language_info": {
   "codemirror_mode": {
    "name": "ipython",
    "version": 3
   },
   "file_extension": ".py",
   "mimetype": "text/x-python",
   "name": "python",
   "nbconvert_exporter": "python",
   "pygments_lexer": "ipython3",
   "version": "3.8.3"
  }
 },
 "nbformat": 4,
 "nbformat_minor": 4
}
